{
 "cells": [
  {
   "cell_type": "code",
   "execution_count": 6,
   "metadata": {},
   "outputs": [],
   "source": [
    "import pandas as pd\n",
    "from sklearn.feature_extraction.text import CountVectorizer\n",
    "from sklearn.ensemble import GradientBoostingClassifier\n",
    "from sklearn.model_selection import train_test_split, GridSearchCV\n",
    "from sklearn.preprocessing import LabelEncoder\n",
    "import pickle\n",
    "\n",
    "\n",
    "data = pd.read_csv('spam.csv', encoding='Windows-1252').drop(['Unnamed: 2','Unnamed: 3','Unnamed: 4'], axis = 1)\n",
    "data = data.rename(columns={'v1':'label','v2':'text'})\n",
    "data.to_csv('spam_clean.csv', index=False, encoding='utf-8')\n",
    "# Features & Target\n",
    "\n",
    "X = data['text']\n",
    "Y = data['label']\n",
    "\n",
    "# Label encoder\n",
    "encoder = LabelEncoder()\n",
    "Y = encoder.fit_transform(Y)\n",
    "\n",
    "# Vectorizer\n",
    "\n",
    "vectorizer = CountVectorizer()\n",
    "X = vectorizer.fit_transform(X)\n",
    "\n",
    "# Model with best params\n",
    "\n",
    "model = GradientBoostingClassifier(n_estimators=200, \n",
    "                                   learning_rate=0.1, \n",
    "                                   max_depth=5)\n",
    "\n",
    "model.fit(X, Y)\n",
    "\n",
    "\n",
    "with open('models/spam_detector.pkl', 'wb') as model_file :\n",
    "    pickle.dump(model, model_file)\n",
    "\n",
    "with open('models/vectorizer.pkl', 'wb') as model_file :\n",
    "    pickle.dump(vectorizer, model_file)"
   ]
  }
 ],
 "metadata": {
  "kernelspec": {
   "display_name": "base",
   "language": "python",
   "name": "python3"
  },
  "language_info": {
   "codemirror_mode": {
    "name": "ipython",
    "version": 3
   },
   "file_extension": ".py",
   "mimetype": "text/x-python",
   "name": "python",
   "nbconvert_exporter": "python",
   "pygments_lexer": "ipython3",
   "version": "3.10.11"
  },
  "orig_nbformat": 4
 },
 "nbformat": 4,
 "nbformat_minor": 2
}
